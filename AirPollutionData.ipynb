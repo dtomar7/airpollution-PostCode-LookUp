{
 "cells": [
  {
   "cell_type": "code",
   "execution_count": 1,
   "id": "90ed371e",
   "metadata": {},
   "outputs": [
    {
     "name": "stderr",
     "output_type": "stream",
     "text": [
      "C:\\Users\\DeepakTomar\\AppData\\Local\\Temp\\ipykernel_14952\\1906382098.py:11: SettingWithCopyWarning: \n",
      "A value is trying to be set on a copy of a slice from a DataFrame.\n",
      "Try using .loc[row_indexer,col_indexer] = value instead\n",
      "\n",
      "See the caveats in the documentation: https://pandas.pydata.org/pandas-docs/stable/user_guide/indexing.html#returning-a-view-versus-a-copy\n",
      "  postCodes['PostCode'] = postCodes['Address_Line4'].str.replace(' ','',regex= True)\n",
      "C:\\Users\\DeepakTomar\\AppData\\Local\\Temp\\ipykernel_14952\\1906382098.py:15: SettingWithCopyWarning: \n",
      "A value is trying to be set on a copy of a slice from a DataFrame.\n",
      "Try using .loc[row_indexer,col_indexer] = value instead\n",
      "\n",
      "See the caveats in the documentation: https://pandas.pydata.org/pandas-docs/stable/user_guide/indexing.html#returning-a-view-versus-a-copy\n",
      "  postCodes['PostCode'] = postCodes['PostCode'].str.upper()\n"
     ]
    }
   ],
   "source": [
    "import pandas as pd\n",
    "import json\n",
    "import http.client\n",
    "\n",
    "#Get dataset containing Postcode data\n",
    "dummyPostCodeData = pd.read_csv('dummy_patientdata.csv')\n",
    "\n",
    "#Create Valid PostCode dataset\n",
    "postCodes = dummyPostCodeData\n",
    "postCodes = postCodes[['Address_Line4']]\n",
    "postCodes['PostCode'] = postCodes['Address_Line4'].str.replace(' ','',regex= True)\n",
    "\n",
    "postCodes.dropna()\n",
    "postCodes = postCodes[(postCodes['PostCode'].str.len() >= 6) & (postCodes['PostCode'].str.len() <= 8)]\n",
    "postCodes['PostCode'] = postCodes['PostCode'].str.upper()\n",
    "postCodes = postCodes.drop_duplicates()\n"
   ]
  },
  {
   "cell_type": "code",
   "execution_count": 2,
   "id": "e845175f",
   "metadata": {},
   "outputs": [
    {
     "name": "stdout",
     "output_type": "stream",
     "text": [
      "       StartCoordinates  EndCoordinates    Value\n",
      "0                   500             999      500\n",
      "1                  1000            1499     1500\n",
      "2                  1500            1999     1500\n",
      "3                  2000            2499     2500\n",
      "4                  2500            2999     2500\n",
      "...                 ...             ...      ...\n",
      "19994           9997500         9997999  9997500\n",
      "19995           9998000         9998499  9998500\n",
      "19996           9998500         9998999  9998500\n",
      "19997           9999000         9999499  9999500\n",
      "19998           9999500         9999999  9999500\n",
      "\n",
      "[19999 rows x 3 columns]\n"
     ]
    }
   ],
   "source": [
    "#Create 1km*1km x,y coordinates\n",
    "roundOffCoord=pd.Series(range(500,9999999,500))\n",
    "roundOffCoord = pd.DataFrame(roundOffCoord, columns={'StartCoordinates'})\n",
    "roundOffCoord['EndCoordinates'] = roundOffCoord['StartCoordinates'].apply(lambda x : x + 499)\n",
    "roundOffCoord['Value'] = roundOffCoord['StartCoordinates'].apply(lambda x : x + 500 if x % 1000 == 0 else x)\n",
    "\n",
    "print(roundOffCoord)"
   ]
  },
  {
   "cell_type": "code",
   "execution_count": 3,
   "id": "39bd8055",
   "metadata": {
    "scrolled": true
   },
   "outputs": [
    {
     "name": "stderr",
     "output_type": "stream",
     "text": [
      "C:\\Users\\DeepakTomar\\AppData\\Local\\Temp\\ipykernel_14952\\3593143546.py:25: SettingWithCopyWarning: \n",
      "A value is trying to be set on a copy of a slice from a DataFrame.\n",
      "Try using .loc[row_indexer,col_indexer] = value instead\n",
      "\n",
      "See the caveats in the documentation: https://pandas.pydata.org/pandas-docs/stable/user_guide/indexing.html#returning-a-view-versus-a-copy\n",
      "  xnewdata['Easting'] = xnewdata['Value']\n",
      "C:\\Users\\DeepakTomar\\AppData\\Local\\Temp\\ipykernel_14952\\3593143546.py:30: SettingWithCopyWarning: \n",
      "A value is trying to be set on a copy of a slice from a DataFrame.\n",
      "Try using .loc[row_indexer,col_indexer] = value instead\n",
      "\n",
      "See the caveats in the documentation: https://pandas.pydata.org/pandas-docs/stable/user_guide/indexing.html#returning-a-view-versus-a-copy\n",
      "  ynewdata['Northing'] = ynewdata['Value']\n",
      "C:\\Users\\DeepakTomar\\AppData\\Local\\Temp\\ipykernel_14952\\3593143546.py:39: FutureWarning: The frame.append method is deprecated and will be removed from pandas in a future version. Use pandas.concat instead.\n",
      "  gridData = gridData.append(combinedcoord, ignore_index=True)\n",
      "C:\\Users\\DeepakTomar\\AppData\\Local\\Temp\\ipykernel_14952\\3593143546.py:25: SettingWithCopyWarning: \n",
      "A value is trying to be set on a copy of a slice from a DataFrame.\n",
      "Try using .loc[row_indexer,col_indexer] = value instead\n",
      "\n",
      "See the caveats in the documentation: https://pandas.pydata.org/pandas-docs/stable/user_guide/indexing.html#returning-a-view-versus-a-copy\n",
      "  xnewdata['Easting'] = xnewdata['Value']\n",
      "C:\\Users\\DeepakTomar\\AppData\\Local\\Temp\\ipykernel_14952\\3593143546.py:30: SettingWithCopyWarning: \n",
      "A value is trying to be set on a copy of a slice from a DataFrame.\n",
      "Try using .loc[row_indexer,col_indexer] = value instead\n",
      "\n",
      "See the caveats in the documentation: https://pandas.pydata.org/pandas-docs/stable/user_guide/indexing.html#returning-a-view-versus-a-copy\n",
      "  ynewdata['Northing'] = ynewdata['Value']\n",
      "C:\\Users\\DeepakTomar\\AppData\\Local\\Temp\\ipykernel_14952\\3593143546.py:39: FutureWarning: The frame.append method is deprecated and will be removed from pandas in a future version. Use pandas.concat instead.\n",
      "  gridData = gridData.append(combinedcoord, ignore_index=True)\n",
      "C:\\Users\\DeepakTomar\\AppData\\Local\\Temp\\ipykernel_14952\\3593143546.py:25: SettingWithCopyWarning: \n",
      "A value is trying to be set on a copy of a slice from a DataFrame.\n",
      "Try using .loc[row_indexer,col_indexer] = value instead\n",
      "\n",
      "See the caveats in the documentation: https://pandas.pydata.org/pandas-docs/stable/user_guide/indexing.html#returning-a-view-versus-a-copy\n",
      "  xnewdata['Easting'] = xnewdata['Value']\n",
      "C:\\Users\\DeepakTomar\\AppData\\Local\\Temp\\ipykernel_14952\\3593143546.py:30: SettingWithCopyWarning: \n",
      "A value is trying to be set on a copy of a slice from a DataFrame.\n",
      "Try using .loc[row_indexer,col_indexer] = value instead\n",
      "\n",
      "See the caveats in the documentation: https://pandas.pydata.org/pandas-docs/stable/user_guide/indexing.html#returning-a-view-versus-a-copy\n",
      "  ynewdata['Northing'] = ynewdata['Value']\n",
      "C:\\Users\\DeepakTomar\\AppData\\Local\\Temp\\ipykernel_14952\\3593143546.py:39: FutureWarning: The frame.append method is deprecated and will be removed from pandas in a future version. Use pandas.concat instead.\n",
      "  gridData = gridData.append(combinedcoord, ignore_index=True)\n",
      "C:\\Users\\DeepakTomar\\AppData\\Local\\Temp\\ipykernel_14952\\3593143546.py:25: SettingWithCopyWarning: \n",
      "A value is trying to be set on a copy of a slice from a DataFrame.\n",
      "Try using .loc[row_indexer,col_indexer] = value instead\n",
      "\n",
      "See the caveats in the documentation: https://pandas.pydata.org/pandas-docs/stable/user_guide/indexing.html#returning-a-view-versus-a-copy\n",
      "  xnewdata['Easting'] = xnewdata['Value']\n",
      "C:\\Users\\DeepakTomar\\AppData\\Local\\Temp\\ipykernel_14952\\3593143546.py:30: SettingWithCopyWarning: \n",
      "A value is trying to be set on a copy of a slice from a DataFrame.\n",
      "Try using .loc[row_indexer,col_indexer] = value instead\n",
      "\n",
      "See the caveats in the documentation: https://pandas.pydata.org/pandas-docs/stable/user_guide/indexing.html#returning-a-view-versus-a-copy\n",
      "  ynewdata['Northing'] = ynewdata['Value']\n",
      "C:\\Users\\DeepakTomar\\AppData\\Local\\Temp\\ipykernel_14952\\3593143546.py:39: FutureWarning: The frame.append method is deprecated and will be removed from pandas in a future version. Use pandas.concat instead.\n",
      "  gridData = gridData.append(combinedcoord, ignore_index=True)\n",
      "C:\\Users\\DeepakTomar\\AppData\\Local\\Temp\\ipykernel_14952\\3593143546.py:25: SettingWithCopyWarning: \n",
      "A value is trying to be set on a copy of a slice from a DataFrame.\n",
      "Try using .loc[row_indexer,col_indexer] = value instead\n",
      "\n",
      "See the caveats in the documentation: https://pandas.pydata.org/pandas-docs/stable/user_guide/indexing.html#returning-a-view-versus-a-copy\n",
      "  xnewdata['Easting'] = xnewdata['Value']\n",
      "C:\\Users\\DeepakTomar\\AppData\\Local\\Temp\\ipykernel_14952\\3593143546.py:30: SettingWithCopyWarning: \n",
      "A value is trying to be set on a copy of a slice from a DataFrame.\n",
      "Try using .loc[row_indexer,col_indexer] = value instead\n",
      "\n",
      "See the caveats in the documentation: https://pandas.pydata.org/pandas-docs/stable/user_guide/indexing.html#returning-a-view-versus-a-copy\n",
      "  ynewdata['Northing'] = ynewdata['Value']\n",
      "C:\\Users\\DeepakTomar\\AppData\\Local\\Temp\\ipykernel_14952\\3593143546.py:39: FutureWarning: The frame.append method is deprecated and will be removed from pandas in a future version. Use pandas.concat instead.\n",
      "  gridData = gridData.append(combinedcoord, ignore_index=True)\n",
      "C:\\Users\\DeepakTomar\\AppData\\Local\\Temp\\ipykernel_14952\\3593143546.py:25: SettingWithCopyWarning: \n",
      "A value is trying to be set on a copy of a slice from a DataFrame.\n",
      "Try using .loc[row_indexer,col_indexer] = value instead\n",
      "\n",
      "See the caveats in the documentation: https://pandas.pydata.org/pandas-docs/stable/user_guide/indexing.html#returning-a-view-versus-a-copy\n",
      "  xnewdata['Easting'] = xnewdata['Value']\n",
      "C:\\Users\\DeepakTomar\\AppData\\Local\\Temp\\ipykernel_14952\\3593143546.py:30: SettingWithCopyWarning: \n",
      "A value is trying to be set on a copy of a slice from a DataFrame.\n",
      "Try using .loc[row_indexer,col_indexer] = value instead\n",
      "\n",
      "See the caveats in the documentation: https://pandas.pydata.org/pandas-docs/stable/user_guide/indexing.html#returning-a-view-versus-a-copy\n",
      "  ynewdata['Northing'] = ynewdata['Value']\n",
      "C:\\Users\\DeepakTomar\\AppData\\Local\\Temp\\ipykernel_14952\\3593143546.py:39: FutureWarning: The frame.append method is deprecated and will be removed from pandas in a future version. Use pandas.concat instead.\n",
      "  gridData = gridData.append(combinedcoord, ignore_index=True)\n"
     ]
    }
   ],
   "source": [
    "#Get x,y coordinates for the valid postcodes using API call\n",
    "import requests\n",
    "\n",
    "cols = ['PostCode', 'PostCodeArea', 'PostcodeSector', 'Easting', 'Northing']\n",
    "    \n",
    "gridData = pd.DataFrame(columns=cols)\n",
    "for code in postCodes['PostCode']:\n",
    "    \n",
    "    #Make an API call for each postcode from postCodes dataset to get x and y coordinates\n",
    "    response = requests.get(f'http://api.getthedata.com/postcode/{code}')\n",
    "    output = response.json()\n",
    "    \n",
    "    arr = []\n",
    "    #Check if the postcode is a valid postcode i.e. a match.\n",
    "    if output['status'] == 'match':\n",
    "            arr = [{'PostCode' : output['data']['postcode'],'PostCodeArea' : output['data']['postcode_area']\n",
    "                ,'PostcodeSector': output['data']['postcode_sector'],'Easting_Actual' : output['data']['easting']\n",
    "                ,'Northing_Actual' : output['data']['northing']}]\n",
    "            \n",
    "            newdata = pd.DataFrame(arr)\n",
    "            newdata = pd.merge(newdata, roundOffCoord,  how='cross')\n",
    "            \n",
    "            #Group easting coordinates into 1*1km area\n",
    "            xnewdata = newdata.query(\"Easting_Actual >= StartCoordinates and Easting_Actual <= EndCoordinates\" )\n",
    "            xnewdata['Easting'] = xnewdata['Value']\n",
    "            xnewdata = xnewdata[['PostCode', 'PostCodeArea', 'PostcodeSector', 'Easting_Actual', 'Easting']]\n",
    "            \n",
    "            #Group northing coordinates into 1*1km area\n",
    "            ynewdata = newdata.query(\"Northing_Actual >= StartCoordinates and Northing_Actual <= EndCoordinates\" )\n",
    "            ynewdata['Northing'] = ynewdata['Value']\n",
    "            ynewdata = ynewdata[['PostCode', 'Northing_Actual', 'Northing']]\n",
    "            \n",
    "            #Combine easting and northing data together\n",
    "            combinedcoord = xnewdata.merge(ynewdata, on='PostCode')\n",
    "            combinedcoord = combinedcoord[['PostCode', 'PostCodeArea', 'PostcodeSector', 'Easting_Actual', 'Easting', 'Northing_Actual', 'Northing']]\n",
    "            combinedcoord = combinedcoord.drop_duplicates()\n",
    "            \n",
    "            #Add each postcode data into one dataset\n",
    "            gridData = gridData.append(combinedcoord, ignore_index=True)\n",
    "    response.close()\n",
    "    \n",
    "#Get rid of any duplicates\n",
    "gridData = gridData.drop_duplicates()      \n"
   ]
  },
  {
   "cell_type": "code",
   "execution_count": 4,
   "id": "06b33317",
   "metadata": {},
   "outputs": [
    {
     "name": "stderr",
     "output_type": "stream",
     "text": [
      "C:\\Users\\DeepakTomar\\AppData\\Local\\Temp\\ipykernel_14952\\4078738107.py:2: DtypeWarning: Columns (0,1,2,3) have mixed types. Specify dtype option on import or set low_memory=False.\n",
      "  airPoll = pd.read_csv('mappm102021g.csv')\n"
     ]
    },
    {
     "name": "stdout",
     "output_type": "stream",
     "text": [
      "       gridcode       x       y pm102021g  PostCode PostCodeArea  \\\n",
      "314920   430208  327500  676500  9.271426   EH6 6SG           EH   \n",
      "314921   430208  327500  676500  9.271426   EH6 7BG           EH   \n",
      "317104   431590  329500  674500    7.9829  EH15 1ED           EH   \n",
      "319418   432972  331500  672500  8.393893  EH15 2RP           EH   \n",
      "327567   437724  253500  665500  9.556187   G51 4TF            G   \n",
      "\n",
      "       PostcodeSector Easting Northing  Easting_Actual  Northing_Actual  \n",
      "314920          EH6 6  327500   676500        327142.0         676467.0  \n",
      "314921          EH6 7  327500   676500        327282.0         676375.0  \n",
      "317104         EH15 1  329500   674500        329820.0         674795.0  \n",
      "319418         EH15 2  331500   672500        331540.0         672288.0  \n",
      "327567          G51 4  253500   665500        253769.0         665746.0  \n"
     ]
    }
   ],
   "source": [
    "#Get air pollution data\n",
    "airPoll = pd.read_csv('mappm102021g.csv')\n",
    "\n",
    "#Data begins from row 6, so skip first 5 rows and using 6th row as column header\n",
    "airPoll = airPoll.rename(columns=airPoll.iloc[4]).drop(airPoll.index[0:5])\n",
    "\n",
    "#Create a lookup dataset for air pollution and postcodes\n",
    "airPoll['x'] = airPoll['x'].astype('int')\n",
    "airPoll['y'] = airPoll['y'].astype('int')\n",
    "airPollLookUp = pd.merge(airPoll, gridData, how='cross')\n",
    "airPollLookUp = airPollLookUp.query(\" x == Easting and y == Northing\")\n",
    "\n",
    "print(airPollLookUp)"
   ]
  },
  {
   "cell_type": "code",
   "execution_count": null,
   "id": "934f722a",
   "metadata": {},
   "outputs": [],
   "source": [
    "\n"
   ]
  }
 ],
 "metadata": {
  "kernelspec": {
   "display_name": "Python 3 (ipykernel)",
   "language": "python",
   "name": "python3"
  },
  "language_info": {
   "codemirror_mode": {
    "name": "ipython",
    "version": 3
   },
   "file_extension": ".py",
   "mimetype": "text/x-python",
   "name": "python",
   "nbconvert_exporter": "python",
   "pygments_lexer": "ipython3",
   "version": "3.8.0"
  }
 },
 "nbformat": 4,
 "nbformat_minor": 5
}
